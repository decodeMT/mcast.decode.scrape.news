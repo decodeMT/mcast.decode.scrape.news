{
 "cells": [
  {
   "cell_type": "code",
   "execution_count": 1,
   "metadata": {},
   "outputs": [],
   "source": [
    "import os\n",
    "import pandas as pd"
   ]
  },
  {
   "cell_type": "code",
   "execution_count": 2,
   "metadata": {},
   "outputs": [],
   "source": [
    "SOURCE_FOLDER = os.path.join(\"..\", \"dump\", \"staging\")\n",
    "FRANKIE_FOLDER = os.path.join(\"..\", \"dump\", \"toScrap\", \"Frankie\")\n",
    "ALAN_FOLDER = os.path.join(\"..\", \"dump\", \"toScrap\", \"Alan\")\n",
    "BATCH_SIZE = 500"
   ]
  },
  {
   "cell_type": "code",
   "execution_count": 3,
   "metadata": {},
   "outputs": [],
   "source": [
    "def writeLinks(destinationFolder: str, fileName: str, links: list, batch: int):\n",
    "    with open(os.path.join(destinationFolder, \"{}_{:06d}.csv\".format(fileName,batch)), \"w\", encoding=\"utf-8\") as f:\n",
    "        for link in links:\n",
    "            f.write(\"{}\".format(link))"
   ]
  },
  {
   "cell_type": "code",
   "execution_count": 6,
   "metadata": {},
   "outputs": [],
   "source": [
    "for file in os.listdir(SOURCE_FOLDER):\n",
    "    fileParts = os.path.splitext(file)\n",
    "    if (fileParts.__len__()!=2 or not fileParts[1].endswith(\"csv\")):\n",
    "        continue\n",
    "\n",
    "    if fileParts[0].startswith(\"MT\") or fileParts[0].startswith(\"IN\"):\n",
    "        destinationFolder=ALAN_FOLDER\n",
    "    else: destinationFolder=FRANKIE_FOLDER\n",
    "\n",
    "    count = 0\n",
    "    batch = 1\n",
    "    links = list()\n",
    "    with open(os.path.join(SOURCE_FOLDER, file), \"r\", encoding=\"utf-8\") as f:\n",
    "        for line in f.readlines():\n",
    "            count += 1\n",
    "            links.append(line)\n",
    "\n",
    "            if (links.__len__()>=BATCH_SIZE):\n",
    "                writeLinks(destinationFolder, fileParts[0], links, batch)\n",
    "                count = 0\n",
    "                batch += 1                \n",
    "                links = list()\n",
    "\n",
    "        if links.__len__()>0:\n",
    "            writeLinks(destinationFolder, fileParts[0], links, batch)"
   ]
  }
 ],
 "metadata": {
  "kernelspec": {
   "display_name": "news-venv-kernel",
   "language": "python",
   "name": "news-venv-kernel"
  },
  "language_info": {
   "codemirror_mode": {
    "name": "ipython",
    "version": 3
   },
   "file_extension": ".py",
   "mimetype": "text/x-python",
   "name": "python",
   "nbconvert_exporter": "python",
   "pygments_lexer": "ipython3",
   "version": "3.10.11"
  },
  "orig_nbformat": 4
 },
 "nbformat": 4,
 "nbformat_minor": 2
}
