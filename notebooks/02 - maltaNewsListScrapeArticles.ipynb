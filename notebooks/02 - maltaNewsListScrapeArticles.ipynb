{
 "cells": [
  {
   "cell_type": "code",
   "execution_count": 14,
   "metadata": {},
   "outputs": [
    {
     "name": "stdout",
     "output_type": "stream",
     "text": [
      "The autoreload extension is already loaded. To reload it, use:\n",
      "  %reload_ext autoreload\n"
     ]
    }
   ],
   "source": [
    "%load_ext autoreload\n",
    "%autoreload 2"
   ]
  },
  {
   "cell_type": "code",
   "execution_count": 18,
   "metadata": {},
   "outputs": [],
   "source": [
    "import sys\n",
    "sys.path.insert(0, '../helpers/')\n",
    "import article_extraction "
   ]
  },
  {
   "cell_type": "code",
   "execution_count": null,
   "metadata": {},
   "outputs": [],
   "source": [
    "files  = article_extraction.get_files_to_process()\n",
    "print(files)"
   ]
  },
  {
   "cell_type": "code",
   "execution_count": null,
   "metadata": {},
   "outputs": [],
   "source": [
    "data = article_extraction.get_file_data(files[0])\n",
    "driver = article_extraction.get_selenium_driver()\n",
    "article = article_extraction.get_article_html_content(data[0][0], driver)\n",
    "article_extraction.extract_elements_from_article('ToM',article)\n",
    "article_extraction.process_file(files[0], article_extraction.get_timestamp())"
   ]
  },
  {
   "cell_type": "code",
   "execution_count": 16,
   "metadata": {},
   "outputs": [],
   "source": [
    "driver = article_extraction.get_selenium_driver()\n",
    "article = article_extraction.get_article_html_content('https://www.maltatoday.com.mt/news/national/80015/national_masterplan_on_developments_needed_says_pd', driver)"
   ]
  },
  {
   "cell_type": "code",
   "execution_count": 19,
   "metadata": {},
   "outputs": [
    {
     "data": {
      "text/html": [
       "<div>\n",
       "<style scoped>\n",
       "    .dataframe tbody tr th:only-of-type {\n",
       "        vertical-align: middle;\n",
       "    }\n",
       "\n",
       "    .dataframe tbody tr th {\n",
       "        vertical-align: top;\n",
       "    }\n",
       "\n",
       "    .dataframe thead th {\n",
       "        text-align: right;\n",
       "    }\n",
       "</style>\n",
       "<table border=\"1\" class=\"dataframe\">\n",
       "  <thead>\n",
       "    <tr style=\"text-align: right;\">\n",
       "      <th></th>\n",
       "      <th>title</th>\n",
       "      <th>sub-title</th>\n",
       "      <th>author</th>\n",
       "      <th>date</th>\n",
       "      <th>article</th>\n",
       "      <th>link</th>\n",
       "      <th>tags</th>\n",
       "    </tr>\n",
       "  </thead>\n",
       "  <tbody>\n",
       "    <tr>\n",
       "      <th>0</th>\n",
       "      <td>National masterplan on developments needed, sa...</td>\n",
       "      <td>'Malta and Gozo are being consumed by a run aw...</td>\n",
       "      <td>None</td>\n",
       "      <td>Last updated on 26 August 2017, 1:50pm</td>\n",
       "      <td>PD is urging the government to develop a natio...</td>\n",
       "      <td>None</td>\n",
       "      <td>None</td>\n",
       "    </tr>\n",
       "  </tbody>\n",
       "</table>\n",
       "</div>"
      ],
      "text/plain": [
       "                                               title  \\\n",
       "0  National masterplan on developments needed, sa...   \n",
       "\n",
       "                                           sub-title author  \\\n",
       "0  'Malta and Gozo are being consumed by a run aw...   None   \n",
       "\n",
       "                                     date  \\\n",
       "0  Last updated on 26 August 2017, 1:50pm   \n",
       "\n",
       "                                             article  link  tags  \n",
       "0  PD is urging the government to develop a natio...  None  None  "
      ]
     },
     "execution_count": 19,
     "metadata": {},
     "output_type": "execute_result"
    }
   ],
   "source": [
    "article_extraction.extract_elements_from_article('MT',article) "
   ]
  },
  {
   "cell_type": "code",
   "execution_count": null,
   "metadata": {},
   "outputs": [],
   "source": [
    "article_extraction.get_tags_NB(article)"
   ]
  },
  {
   "cell_type": "code",
   "execution_count": null,
   "metadata": {},
   "outputs": [],
   "source": []
  },
  {
   "attachments": {},
   "cell_type": "markdown",
   "metadata": {},
   "source": [
    "### TESTING"
   ]
  },
  {
   "cell_type": "code",
   "execution_count": null,
   "metadata": {},
   "outputs": [],
   "source": [
    "from selenium import webdriver\n",
    "from selenium.webdriver.chrome.service import Service\n",
    "from webdriver_manager.chrome import ChromeDriverManager\n",
    "from selenium.webdriver.chrome.options import Options\n",
    "\n",
    "options = Options()\n",
    "options.add_argument(\"headless\")\n",
    "driver = webdriver.Chrome(service=Service(ChromeDriverManager().install()), options=options)\n"
   ]
  },
  {
   "cell_type": "code",
   "execution_count": null,
   "metadata": {},
   "outputs": [],
   "source": [
    "driver.get(\"https://tvmnews.mt/en/news/man-charged-with-threatening-8-policemen-granted-bail/\")\n"
   ]
  },
  {
   "cell_type": "code",
   "execution_count": null,
   "metadata": {},
   "outputs": [],
   "source": [
    "get_tags_TVM(bs.BeautifulSoup(driver.page_source, 'html.parser' ))"
   ]
  },
  {
   "cell_type": "code",
   "execution_count": null,
   "metadata": {},
   "outputs": [],
   "source": [
    "res = bs.BeautifulSoup(driver.page_source, 'html.parser' )\n",
    "x = res.find(class_='td-tags td-post-small-box clearfix')\n",
    "list = []\n",
    "for result in x:\n",
    "    if (result.get_text()!='TAGS'):\n",
    "        list.append(result.get_text())\n",
    "print(list)"
   ]
  },
  {
   "cell_type": "code",
   "execution_count": null,
   "metadata": {},
   "outputs": [],
   "source": [
    "res = requests.get('https://timesofmalta.com/articles/view/eu-wanted-scrap-daylight-savings-time-now-no-longer-interested.1022041')\n",
    "res = bs.BeautifulSoup(res.content, 'html.parser' )\n",
    "text_file = open(\"test.txt\", \"w\")\n",
    "text_file.write(str(res))\n",
    "text_file.close()"
   ]
  },
  {
   "cell_type": "code",
   "execution_count": null,
   "metadata": {},
   "outputs": [],
   "source": [
    "x = res.find(class_='wi-WidgetKeywords-container')\n",
    "print(x)"
   ]
  },
  {
   "cell_type": "code",
   "execution_count": null,
   "metadata": {},
   "outputs": [],
   "source": [
    "extract_article_parts(res, newsParser['NB']['scrape'])"
   ]
  },
  {
   "cell_type": "code",
   "execution_count": null,
   "metadata": {},
   "outputs": [],
   "source": [
    "print (chr(31))"
   ]
  },
  {
   "cell_type": "code",
   "execution_count": null,
   "metadata": {},
   "outputs": [],
   "source": [
    "import pandas as pd\n",
    "data = pd.read_csv('../data/MT_20230408_085746.csv', sep=chr(31), header=None)\n",
    "data.shape"
   ]
  }
 ],
 "metadata": {
  "kernelspec": {
   "display_name": "aci",
   "language": "python",
   "name": "python3"
  },
  "language_info": {
   "codemirror_mode": {
    "name": "ipython",
    "version": 3
   },
   "file_extension": ".py",
   "mimetype": "text/x-python",
   "name": "python",
   "nbconvert_exporter": "python",
   "pygments_lexer": "ipython3",
   "version": "3.11.2"
  },
  "orig_nbformat": 4
 },
 "nbformat": 4,
 "nbformat_minor": 2
}
