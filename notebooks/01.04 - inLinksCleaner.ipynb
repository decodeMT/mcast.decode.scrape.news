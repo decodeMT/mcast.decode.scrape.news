{
 "cells": [
  {
   "attachments": {},
   "cell_type": "markdown",
   "metadata": {},
   "source": [
    "Cleans a list of links for Malta Independent"
   ]
  },
  {
   "cell_type": "code",
   "execution_count": 11,
   "metadata": {},
   "outputs": [],
   "source": [
    "import os"
   ]
  },
  {
   "cell_type": "code",
   "execution_count": 12,
   "metadata": {},
   "outputs": [],
   "source": [
    "DATA_FOLDER = os.path.join(\"..\", \"dump\")\n",
    "in_path = os.path.join(DATA_FOLDER, \"IN.txt\")\n",
    "out_path = os.path.join(DATA_FOLDER, \"OUT.txt\")"
   ]
  },
  {
   "cell_type": "code",
   "execution_count": 14,
   "metadata": {},
   "outputs": [],
   "source": [
    "with open(in_path, 'r', encoding='utf-8') as inf:\n",
    "    with open(out_path, 'w', encoding='utf-8') as ouf:\n",
    "        for line in inf.readlines():\n",
    "            start_pos = line.rfind('/local-news/')\n",
    "            end_pos = line.rfind('-')\n",
    "            link = \"{}/local-news/{}\".format(line[0:start_pos], line[end_pos+1:])\n",
    "            ouf.write(link)\n",
    "        "
   ]
  }
 ],
 "metadata": {
  "kernelspec": {
   "display_name": "news-venv-kernel",
   "language": "python",
   "name": "news-venv-kernel"
  },
  "language_info": {
   "codemirror_mode": {
    "name": "ipython",
    "version": 3
   },
   "file_extension": ".py",
   "mimetype": "text/x-python",
   "name": "python",
   "nbconvert_exporter": "python",
   "pygments_lexer": "ipython3",
   "version": "3.10.11"
  },
  "orig_nbformat": 4
 },
 "nbformat": 4,
 "nbformat_minor": 2
}
