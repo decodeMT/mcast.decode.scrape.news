{
 "cells": [
  {
   "cell_type": "code",
   "execution_count": 1,
   "metadata": {},
   "outputs": [],
   "source": [
    "import psycopg2\n",
    "import spacy\n",
    "from tqdm import tqdm\n",
    "import csv\n",
    "from dotenv import load_dotenv\n",
    "import os\n",
    "\n",
    "# the following code must be run only once in the environment\n",
    "# python -m spacy download en_core_web_trf"
   ]
  },
  {
   "cell_type": "code",
   "execution_count": 2,
   "metadata": {},
   "outputs": [],
   "source": [
    "nlp = spacy.load(\"en_core_web_trf\")"
   ]
  },
  {
   "cell_type": "code",
   "execution_count": 4,
   "metadata": {},
   "outputs": [],
   "source": [
    "load_dotenv(os.path.join(\"..\", \"settings\", \"local.env\"))\n",
    "\n",
    "db_host = os.getenv(\"DB_HOST\")\n",
    "db_port = os.getenv(\"DB_PORT\")\n",
    "db_name = os.getenv(\"DB_NAME\")\n",
    "db_username = os.getenv(\"DB_USERNAME\")\n",
    "db_password = os.getenv(\"DB_PASSWORD\")\n",
    "db_batch_size = 950  # Maximum of postgresql is 1000, some articles have up to 700 named entities."
   ]
  },
  {
   "cell_type": "code",
   "execution_count": 5,
   "metadata": {},
   "outputs": [],
   "source": [
    "conn = psycopg2.connect(database=db_name, user=db_username, password=db_password, host=db_host, port=db_port)\n",
    "conn.autocommit=True\n",
    "cur = conn.cursor()"
   ]
  },
  {
   "cell_type": "code",
   "execution_count": 11,
   "metadata": {},
   "outputs": [],
   "source": [
    "# run this code if you do not have the table named localnews.named_entities\n",
    "cur.execute(\"CREATE TABLE localnews.named_entities (\"\n",
    "    \"entryid integer PRIMARY KEY GENERATED ALWAYS AS IDENTITY,\"\n",
    "    \"articleId INTEGER NOT NULL REFERENCES localnews.articles(entryid),\"\n",
    "    \"entity VARCHAR(2054) NOT NULL,\"\n",
    "    \"entityType VARCHAR(500) NOT NULL)\"\n",
    ")"
   ]
  },
  {
   "cell_type": "code",
   "execution_count": 8,
   "metadata": {},
   "outputs": [],
   "source": [
    "#make sure to change date to get required records\n",
    "year = 2020\n",
    "cur.execute(\"SELECT entryId, article FROM localnews.articles WHERE date_part('year',parseddate) = {}\"\n",
    "    \" and entryId NOT IN (SELECT DISTINCT articleId FROM localnews.named_entities)\".format(year))\n",
    "records = cur.fetchall()"
   ]
  },
  {
   "cell_type": "code",
   "execution_count": 9,
   "metadata": {},
   "outputs": [
    {
     "name": "stderr",
     "output_type": "stream",
     "text": [
      "Performing NER: 100%|██████████| 24026/24026 [3:06:37<00:00,  2.15it/s]   \n"
     ]
    }
   ],
   "source": [
    "values = []\n",
    "for entryId, article in tqdm(records, desc=\"Performing NER\"):\n",
    "    doc = nlp(article, disable=[\"tagger\", \"parser\", \"attribute_ruler\", \"lemmatizer\"])\n",
    "    for ent in doc.ents:\n",
    "        if ent.label_ not in ['DATE', 'CARDINAL', 'ORDINAL', 'QUANTITY', 'MONEY', 'TIME', 'PERCENT']:\n",
    "            values.append((entryId, ent.text, ent.label_))\n",
    "\n",
    "        if values.__len__() >= db_batch_size:\n",
    "            cur.executemany(\"INSERT INTO localnews.named_entities (articleId, entity, entityType) VALUES (%s, %s, %s)\", values)\n",
    "            values.clear()\n",
    "\n",
    "if values.__len__() > 0:\n",
    "    cur.executemany(\"INSERT INTO localnews.named_entities (articleId, entity, entityType) VALUES (%s, %s, %s)\", values)"
   ]
  },
  {
   "cell_type": "code",
   "execution_count": null,
   "metadata": {},
   "outputs": [],
   "source": [
    "# with open('ner_results_{}.csv'.format(year), 'w', newline='') as csvfile:\n",
    "#     fieldnames = ['entryId', 'type', 'entity']\n",
    "#     writer = csv.DictWriter(csvfile, fieldnames=fieldnames)\n",
    "#     writer.writeheader()\n",
    "\n",
    "#     # Perform NER and store the results in the CSV file\n",
    "#     for entryId, article in tqdm(records, desc=\"Performing NER\"):\n",
    "#         doc = nlp(article)\n",
    "#         for ent in doc.ents:\n",
    "#             if ent.label_ not in ['DATE', 'CARDINAL', 'ORDINAL', 'QUANTITY', 'MONEY', 'TIME', 'PERCENT']:\n",
    "#                 writer.writerow({'entryId': entryId, 'entity': ent.text, 'type': ent.label_})\n",
    "\n",
    "# # Close the cursor and the connection\n",
    "# cur.close()\n",
    "# conn.close()"
   ]
  },
  {
   "cell_type": "code",
   "execution_count": null,
   "metadata": {},
   "outputs": [],
   "source": [
    "# conn = psycopg2.connect(database=\"decodeMT\", user=\"postgres\", password=\"123\", host=\"localhost\", port=\"5432\")\n",
    "\n",
    "# cur = conn.cursor()\n",
    "\n",
    "# cur.execute(\"CREATE TABLE localnews.named_entities (entry_id INTEGER, entity VARCHAR(2048), entity_type VARCHAR(2048))\")\n",
    "\n",
    "# # read in the CSV file and insert the data into the table\n",
    "# with open(\"./ner_results.csv\", \"r\", encoding=\"utf-8\") as f:\n",
    "#     reader = csv.reader(f)\n",
    "#     total_rows = sum(1 for row in reader)\n",
    "#     f.seek(0)\n",
    "#     next(reader) # skip header row\n",
    "#     for i, row in tqdm(enumerate(reader, start=1), total=total_rows, desc=\"Inserting data\"):\n",
    "#         cur.execute(\"INSERT INTO localnews.named_entities (entry_id, entity_type, entity) VALUES (%s, %s, %s)\", (row[0], row[1], row[2]))\n",
    "    \n",
    "\n",
    "# # commit the changes and close the cursor and connection objects\n",
    "# conn.commit()\n",
    "# cur.close()\n",
    "# conn.close()"
   ]
  }
 ],
 "metadata": {
  "kernelspec": {
   "display_name": "news-venv-kernel",
   "language": "python",
   "name": "news-venv-kernel"
  },
  "language_info": {
   "codemirror_mode": {
    "name": "ipython",
    "version": 3
   },
   "file_extension": ".py",
   "mimetype": "text/x-python",
   "name": "python",
   "nbconvert_exporter": "python",
   "pygments_lexer": "ipython3",
   "version": "3.10.11"
  },
  "orig_nbformat": 4
 },
 "nbformat": 4,
 "nbformat_minor": 2
}
