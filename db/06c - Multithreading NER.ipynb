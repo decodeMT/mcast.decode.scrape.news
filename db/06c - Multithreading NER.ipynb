{
 "cells": [
  {
   "cell_type": "code",
   "execution_count": 1,
   "metadata": {},
   "outputs": [],
   "source": [
    "import queue\n",
    "import multiprocessing\n",
    "import psycopg2\n",
    "import spacy\n",
    "from dotenv import load_dotenv\n",
    "import os"
   ]
  },
  {
   "cell_type": "code",
   "execution_count": 2,
   "metadata": {},
   "outputs": [],
   "source": [
    "nlp = spacy.load(\"en_core_web_trf\")"
   ]
  },
  {
   "cell_type": "code",
   "execution_count": 3,
   "metadata": {},
   "outputs": [],
   "source": [
    "load_dotenv(os.path.join(\"..\", \"settings\", \"local.env\"))\n",
    "\n",
    "db_host = os.getenv(\"DB_HOST\")\n",
    "db_port = os.getenv(\"DB_PORT\")\n",
    "db_name = os.getenv(\"DB_NAME\")\n",
    "db_username = os.getenv(\"DB_USERNAME\")\n",
    "db_password = os.getenv(\"DB_PASSWORD\")\n",
    "db_batch_size = 950  # Maximum of postgresql is 1000, some articles have up to 700 named entities.\n",
    "n_processes = 4\n",
    "batch_size = 512"
   ]
  },
  {
   "cell_type": "code",
   "execution_count": 4,
   "metadata": {},
   "outputs": [],
   "source": [
    "conn = psycopg2.connect(database=db_name, user=db_username, password=db_password, host=db_host, port=db_port)\n",
    "conn.autocommit=True\n",
    "cur = conn.cursor()"
   ]
  },
  {
   "cell_type": "code",
   "execution_count": 5,
   "metadata": {},
   "outputs": [],
   "source": [
    "year = 2019\n",
    "cur.execute(\"SELECT entryId, article FROM localnews.articles WHERE date_part('year',parseddate) = {}\"\n",
    "    \" and entryId NOT IN (SELECT DISTINCT articleId FROM localnews.named_entities) LIMIT 100\".format(year))\n",
    "records = cur.fetchall()"
   ]
  },
  {
   "cell_type": "code",
   "execution_count": 16,
   "metadata": {},
   "outputs": [],
   "source": [
    "def worker(q):\n",
    "    cur = conn.cursor()\n",
    "\n",
    "    while True:\n",
    "        try:\n",
    "            items = q.get(block=False)\n",
    "        except queue.Empty:\n",
    "            break\n",
    "\n",
    "        # Process the batch of items here\n",
    "        values = []\n",
    "        for item in items:\n",
    "            doc = nlp(item[1], disable=[\"tagger\", \"parser\", \"attribute_ruler\", \"lemmatizer\"])\n",
    "\n",
    "            for ent in doc.ents:\n",
    "                if ent.label_ not in ['DATE', 'CARDINAL', 'ORDINAL', 'QUANTITY', 'MONEY', 'TIME', 'PERCENT']:\n",
    "                    values.append((item[0], ent.text, ent.label_))\n",
    "\n",
    "                if values.__len__() >= db_batch_size:\n",
    "                    #cur.executemany(\"INSERT INTO localnews.named_entities (articleId, entity, entityType) VALUES (%s, %s, %s)\", values)\n",
    "                    values.clear()\n",
    "\n",
    "        if values.__len__() > 0:\n",
    "            #cur.executemany(\"INSERT INTO localnews.named_entities (articleId, entity, entityType) VALUES (%s, %s, %s)\", values) \n",
    "            values.clear()"
   ]
  },
  {
   "cell_type": "code",
   "execution_count": 18,
   "metadata": {},
   "outputs": [],
   "source": [
    "# Create a queue and add items to it\n",
    "q = multiprocessing.Queue()\n",
    "\n",
    "# Adding items in batches\n",
    "for i in range(0, records.__len__(), batch_size):\n",
    "    q.put(records[i:i+batch_size])"
   ]
  },
  {
   "cell_type": "code",
   "execution_count": 17,
   "metadata": {},
   "outputs": [],
   "source": [
    "# Create 4 worker processes\n",
    "processes = []\n",
    "for _ in range(n_processes):\n",
    "    p = multiprocessing.Process(target=worker, args=(q,))\n",
    "    p.start()\n",
    "    processes.append(p)\n",
    "\n",
    "# Wait for all processes to finish\n",
    "for p in processes:\n",
    "    p.join()"
   ]
  }
 ],
 "metadata": {
  "kernelspec": {
   "display_name": "news-venv-kernel",
   "language": "python",
   "name": "news-venv-kernel"
  },
  "language_info": {
   "codemirror_mode": {
    "name": "ipython",
    "version": 3
   },
   "file_extension": ".py",
   "mimetype": "text/x-python",
   "name": "python",
   "nbconvert_exporter": "python",
   "pygments_lexer": "ipython3",
   "version": "3.10.11"
  },
  "orig_nbformat": 4
 },
 "nbformat": 4,
 "nbformat_minor": 2
}
