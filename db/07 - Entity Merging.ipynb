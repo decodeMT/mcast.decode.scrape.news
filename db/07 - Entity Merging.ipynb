{
 "cells": [
  {
   "cell_type": "code",
   "execution_count": 1,
   "metadata": {},
   "outputs": [],
   "source": [
    "import psycopg2\n",
    "from tqdm import tqdm\n",
    "from dotenv import load_dotenv\n",
    "import os\n",
    "import pandas as pd"
   ]
  },
  {
   "cell_type": "code",
   "execution_count": 2,
   "metadata": {},
   "outputs": [],
   "source": [
    "load_dotenv(os.path.join(\"..\", \"settings\", \"local.env\"))\n",
    "\n",
    "db_host = os.getenv(\"DB_HOST\")\n",
    "db_port = os.getenv(\"DB_PORT\")\n",
    "db_name = os.getenv(\"DB_NAME\")\n",
    "db_username = os.getenv(\"DB_USERNAME\")\n",
    "db_password = os.getenv(\"DB_PASSWORD\")\n",
    "db_batch_size = 950 # Maximum of postgresql is 1000, some articles have up to 700 named entities."
   ]
  },
  {
   "cell_type": "code",
   "execution_count": 3,
   "metadata": {},
   "outputs": [],
   "source": [
    "conn = psycopg2.connect(database=db_name, user=db_username, password=db_password, host=db_host, port=db_port)\n",
    "conn.autocommit=True\n",
    "cur = conn.cursor()"
   ]
  },
  {
   "cell_type": "code",
   "execution_count": 4,
   "metadata": {},
   "outputs": [],
   "source": [
    "file_a = pd.read_csv(os.path.join(\".\", \"ner_results_2008 down.csv\"))\n",
    "file_b = pd.read_csv(os.path.join(\".\", \"ner_results_2009.csv\"))\n",
    "file_c = pd.read_csv(os.path.join(\".\", \"ner_results_2010_2014.csv\"))"
   ]
  },
  {
   "cell_type": "code",
   "execution_count": 5,
   "metadata": {},
   "outputs": [],
   "source": [
    "file_a.columns = ['articleid', 'entitytype', 'entity']\n",
    "file_b.columns = ['articleid', 'entitytype', 'entity']\n",
    "file_c.columns = ['articleid', 'entitytype', 'entity']"
   ]
  },
  {
   "cell_type": "code",
   "execution_count": 6,
   "metadata": {},
   "outputs": [],
   "source": [
    "df = pd.concat([file_a, file_b, file_c])"
   ]
  },
  {
   "cell_type": "code",
   "execution_count": 7,
   "metadata": {},
   "outputs": [
    {
     "name": "stderr",
     "output_type": "stream",
     "text": [
      "100%|██████████| 5899761/5899761 [19:54<00:00, 4940.14it/s]\n"
     ]
    }
   ],
   "source": [
    "for index, row in tqdm(df.iterrows(), total=df.shape[0]):\n",
    "    cur.execute(\"INSERT INTO localnews.named_entities (articleId, entity, entityType) VALUES (%s, %s, %s)\", row)"
   ]
  }
 ],
 "metadata": {
  "kernelspec": {
   "display_name": "news",
   "language": "python",
   "name": "python3"
  },
  "language_info": {
   "codemirror_mode": {
    "name": "ipython",
    "version": 3
   },
   "file_extension": ".py",
   "mimetype": "text/x-python",
   "name": "python",
   "nbconvert_exporter": "python",
   "pygments_lexer": "ipython3",
   "version": "3.10.11"
  },
  "orig_nbformat": 4
 },
 "nbformat": 4,
 "nbformat_minor": 2
}
