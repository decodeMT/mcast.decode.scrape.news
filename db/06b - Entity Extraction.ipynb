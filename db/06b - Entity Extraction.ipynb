{
 "cells": [
  {
   "cell_type": "code",
   "execution_count": 1,
   "metadata": {},
   "outputs": [
    {
     "name": "stdout",
     "output_type": "stream",
     "text": [
      "Number of cpu :  16\n"
     ]
    }
   ],
   "source": [
    "import multiprocessing\n",
    "\n",
    "print(\"Number of cpu : \", multiprocessing.cpu_count())"
   ]
  },
  {
   "cell_type": "code",
   "execution_count": 2,
   "metadata": {},
   "outputs": [],
   "source": [
    "import psycopg2\n",
    "import spacy\n",
    "from tqdm import tqdm\n",
    "import csv\n",
    "from dotenv import load_dotenv\n",
    "import os\n",
    "\n",
    "# the following code must be run only once in the environment\n",
    "# python -m spacy download en_core_web_trf"
   ]
  },
  {
   "cell_type": "code",
   "execution_count": 3,
   "metadata": {},
   "outputs": [],
   "source": [
    "nlp = spacy.load(\"en_core_web_trf\")"
   ]
  },
  {
   "cell_type": "code",
   "execution_count": 4,
   "metadata": {},
   "outputs": [],
   "source": [
    "load_dotenv(os.path.join(\"..\", \"settings\", \"local.env\"))\n",
    "\n",
    "db_host = os.getenv(\"DB_HOST\")\n",
    "db_port = os.getenv(\"DB_PORT\")\n",
    "db_name = os.getenv(\"DB_NAME\")\n",
    "db_username = os.getenv(\"DB_USERNAME\")\n",
    "db_password = os.getenv(\"DB_PASSWORD\")\n",
    "db_batch_size = 950 # Maximum of postgresql is 1000, some articles have up to 700 named entities."
   ]
  },
  {
   "cell_type": "code",
   "execution_count": 5,
   "metadata": {},
   "outputs": [],
   "source": [
    "conn = psycopg2.connect(database=db_name, user=db_username, password=db_password, host=db_host, port=db_port)\n",
    "conn.autocommit=True\n",
    "cur = conn.cursor()"
   ]
  },
  {
   "cell_type": "code",
   "execution_count": 6,
   "metadata": {},
   "outputs": [],
   "source": [
    "#make sure to change date to get required records\n",
    "year = 2019\n",
    "cur.execute(\"SELECT entryId, article FROM localnews.articles WHERE date_part('year',parseddate) = {}\"\n",
    "    \" and entryId NOT IN (SELECT DISTINCT articleId FROM localnews.named_entities) LIMIT 1000\".format(year))\n",
    "records = cur.fetchall()"
   ]
  },
  {
   "cell_type": "code",
   "execution_count": 29,
   "metadata": {},
   "outputs": [],
   "source": [
    "# Create texts for single processing\n",
    "texts = []\n",
    "\n",
    "for record in records:\n",
    "    texts.append(record[1])"
   ]
  },
  {
   "cell_type": "code",
   "execution_count": 30,
   "metadata": {},
   "outputs": [],
   "source": [
    "# Create texts for multi-processing\n",
    "from spacy.tokens import Doc\n",
    "\n",
    "if not Doc.has_extension(\"articleID\"):\n",
    "    Doc.set_extension(\"articleID\", default=None)\n",
    "\n",
    "text_tuples = []\n",
    "for record in records:\n",
    "    text_tuples.append((record[1], {\"articleID\": record[0]}))"
   ]
  },
  {
   "attachments": {},
   "cell_type": "markdown",
   "metadata": {},
   "source": [
    "Start tests"
   ]
  },
  {
   "cell_type": "code",
   "execution_count": 31,
   "metadata": {},
   "outputs": [
    {
     "data": {
      "text/plain": [
       "5.039042699965648"
      ]
     },
     "execution_count": 31,
     "metadata": {},
     "output_type": "execute_result"
    }
   ],
   "source": [
    "import timeit\n",
    "\n",
    "timeit.timeit(lambda: nlp(texts[0]), number=10)"
   ]
  },
  {
   "cell_type": "code",
   "execution_count": 32,
   "metadata": {},
   "outputs": [
    {
     "data": {
      "text/plain": [
       "4.78611860005185"
      ]
     },
     "execution_count": 32,
     "metadata": {},
     "output_type": "execute_result"
    }
   ],
   "source": [
    "timeit.timeit(lambda: nlp(texts[0], disable=[\"tagger\", \"parser\", \"attribute_ruler\", \"lemmatizer\"]), number=10)"
   ]
  },
  {
   "cell_type": "code",
   "execution_count": 36,
   "metadata": {},
   "outputs": [
    {
     "data": {
      "text/plain": [
       "0.00028639996889978647"
      ]
     },
     "execution_count": 36,
     "metadata": {},
     "output_type": "execute_result"
    }
   ],
   "source": [
    "timeit.timeit(lambda: nlp.pipe(text_tuples, n_process=8), number=1000)"
   ]
  },
  {
   "cell_type": "code",
   "execution_count": 37,
   "metadata": {},
   "outputs": [
    {
     "data": {
      "text/plain": [
       "0.0003212000010535121"
      ]
     },
     "execution_count": 37,
     "metadata": {},
     "output_type": "execute_result"
    }
   ],
   "source": [
    "timeit.timeit(lambda: nlp.pipe(text_tuples, n_process=8, disable=[\"tagger\", \"parser\", \"attribute_ruler\", \"lemmatizer\"]), number=1000)"
   ]
  },
  {
   "cell_type": "code",
   "execution_count": 47,
   "metadata": {},
   "outputs": [
    {
     "name": "stderr",
     "output_type": "stream",
     "text": [
      "Performing NER: 100%|██████████| 100/100 [01:03<00:00,  1.57it/s]\n"
     ]
    }
   ],
   "source": [
    "for entryId, article in tqdm(records, desc=\"Performing NER\"):\n",
    "    doc = nlp(article, disable=[\"tagger\", \"parser\", \"attribute_ruler\", \"lemmatizer\"])"
   ]
  },
  {
   "cell_type": "code",
   "execution_count": 48,
   "metadata": {},
   "outputs": [],
   "source": [
    "doc_tuples = nlp.pipe(text_tuples, as_tuples=True, n_process=8, disable=[\"tagger\", \"parser\", \"attribute_ruler\", \"lemmatizer\"])"
   ]
  },
  {
   "attachments": {},
   "cell_type": "markdown",
   "metadata": {},
   "source": [
    "Single processing solution without SQL "
   ]
  },
  {
   "cell_type": "code",
   "execution_count": 64,
   "metadata": {},
   "outputs": [
    {
     "name": "stderr",
     "output_type": "stream",
     "text": [
      "Performing Single-processing NER: 100%|██████████| 100/100 [01:00<00:00,  1.66it/s]\n"
     ]
    }
   ],
   "source": [
    "values = []\n",
    "for entryId, article in tqdm(records, desc=\"Performing Single-processing NER\"):\n",
    "    doc = nlp(article, disable=[\"tagger\", \"parser\", \"attribute_ruler\", \"lemmatizer\"])\n",
    "\n",
    "    for ent in doc.ents:\n",
    "        if ent.label_ not in ['DATE', 'CARDINAL', 'ORDINAL', 'QUANTITY', 'MONEY', 'TIME', 'PERCENT']:\n",
    "            values.append((entryId, ent.text, ent.label_))\n",
    "\n",
    "        if values.__len__() >= db_batch_size:\n",
    "            #cur.executemany(\"INSERT INTO localnews.named_entities (articleId, entity, entityType) VALUES (%s, %s, %s)\", values)\n",
    "            values.clear()\n",
    "\n",
    "if values.__len__() > 0:\n",
    "    print()\n",
    "    #cur.executemany(\"INSERT INTO localnews.named_entities (articleId, entity, entityType) VALUES (%s, %s, %s)\", values)"
   ]
  },
  {
   "attachments": {},
   "cell_type": "markdown",
   "metadata": {},
   "source": [
    "Multi-processing NER"
   ]
  },
  {
   "cell_type": "code",
   "execution_count": 66,
   "metadata": {},
   "outputs": [
    {
     "name": "stderr",
     "output_type": "stream",
     "text": [
      "Performing Multi-processing NER: 100it [01:06,  1.50it/s]\n"
     ]
    }
   ],
   "source": [
    "doc_tuples = nlp.pipe(text_tuples, as_tuples=True, n_process=4, batch_size=8, disable=[\"tagger\", \"parser\", \"attribute_ruler\", \"lemmatizer\"])\n",
    "\n",
    "values = []\n",
    "for doc, context in tqdm(doc_tuples, desc=\"Performing Multi-processing NER\"):    \n",
    "    for ent in doc.ents:\n",
    "        if ent.label_ not in ['DATE', 'CARDINAL', 'ORDINAL', 'QUANTITY', 'MONEY', 'TIME', 'PERCENT']:\n",
    "            values.append((context[\"articleID\"], ent.text, ent.label_))\n",
    "\n",
    "    if values.__len__() >= db_batch_size:\n",
    "        #cur.executemany(\"INSERT INTO localnews.named_entities (articleId, entity, entityType) VALUES (%s, %s, %s)\", values)\n",
    "        values.clear()\n",
    "\n",
    "if values.__len__() > 0:\n",
    "    #cur.executemany(\"INSERT INTO localnews.named_entities (articleId, entity, entityType) VALUES (%s, %s, %s)\", values)\n",
    "    values.clear()"
   ]
  }
 ],
 "metadata": {
  "kernelspec": {
   "display_name": "news-venv-kernel",
   "language": "python",
   "name": "news-venv-kernel"
  },
  "language_info": {
   "codemirror_mode": {
    "name": "ipython",
    "version": 3
   },
   "file_extension": ".py",
   "mimetype": "text/x-python",
   "name": "python",
   "nbconvert_exporter": "python",
   "pygments_lexer": "ipython3",
   "version": "3.10.11"
  },
  "orig_nbformat": 4
 },
 "nbformat": 4,
 "nbformat_minor": 2
}
